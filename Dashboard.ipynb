{
 "cells": [
  {
   "cell_type": "markdown",
   "metadata": {},
   "source": [
    "# Covid-19 Dashboard"
   ]
  },
  {
   "cell_type": "code",
   "execution_count": 2,
   "metadata": {},
   "outputs": [],
   "source": [
    "import ipywidgets as wdg\n",
    "import pandas as pd\n",
    "import matplotlib.pyplot as plt\n",
    "import json\n",
    "import time\n",
    "from uk_covid19 import Cov19API"
   ]
  },
  {
   "cell_type": "code",
   "execution_count": 3,
   "metadata": {},
   "outputs": [],
   "source": [
    "%matplotlib inline\n",
    "# make figures larger\n",
    "plt.rcParams['figure.dpi'] = 100"
   ]
  },
  {
   "cell_type": "code",
   "execution_count": 4,
   "metadata": {},
   "outputs": [],
   "source": [
    "# Load initial data from disk¶\n",
    "#Loading initial data from testsbydate.json file. \n",
    "#The file has datewise data of number of Planned covid tests (PlanCovidTests), number of Test-1, \n",
    "#Test-2 and Test-3 types carried on the date marked as testsone, \n",
    "#teststwo and teststhree respectivelyin the UK.\n",
    "with open(\"testsbydate.json\", \"rt\") as INFILE:\n",
    "    data=json.load(INFILE)\n",
    "INFILE.close()\n"
   ]
  },
  {
   "cell_type": "code",
   "execution_count": 5,
   "metadata": {},
   "outputs": [],
   "source": [
    "#function to parse date in date string format using pandas\n",
    "def parse_date(datestring):\n",
    "    return pd.to_datetime(datestring, format = \"%Y-%m-%d\")\n",
    "## Wrangle the data (Function)\n",
    "#1. prints the data update date\n",
    "#2. makes dataframe (df) against the json data on ascending date basis\n",
    "#3. There is a new column in df TotalCovidTests which sums all three types of tests (test1, test2 and test3) which is total tests carried all over UK on a given date.\n",
    "#4. This is called when \"Refresh Data\" button is pressed\n",
    "def wrangle_data(rawdata):\n",
    "    datalist = rawdata['data']\n",
    "    update = rawdata['lastUpdate']\n",
    "    global update1\n",
    "    update1 = parse_date(update)\n",
    "    dtime.value = str(update1)\n",
    "    dates = [dictionary['date'] for dictionary in datalist]\n",
    "    dates.sort()\n",
    "    \n",
    "    startdate = parse_date(dates[0])\n",
    "    enddate = parse_date(dates[-1])\n",
    "    \n",
    "    index = pd.date_range(startdate, enddate, freq = 'D')\n",
    "    df = pd.DataFrame(index=index, columns=['PlanCovidTests', 'testsone', 'teststwo', 'teststhree'])\n",
    "    \n",
    "    for entry in datalist: # each entry is a dictionary with date, cases, hospital and deaths\n",
    "        date=parse_date(entry['date'])\n",
    "        for column in ['PlanCovidTests', 'testsone', 'teststwo', 'teststhree']:\n",
    "            if pd.isna(df.loc[date, column]):\n",
    "                value = int(entry[column]) if entry[column] != None else 0;\n",
    "                df.loc[date, column] = value\n",
    "\n",
    "    df.fillna(0, inplace=True)\n",
    "    df['TotalCovidTests'] = df['testsone'] + df['teststwo'] + df['teststhree']\n",
    "\n",
    "    return df\n"
   ]
  },
  {
   "cell_type": "code",
   "execution_count": 6,
   "metadata": {},
   "outputs": [],
   "source": [
    "## Download current data (function)\n",
    "#1. function to download current data - The function tries to call api from PHE, \n",
    "#  if it fails it just copies the data from the  \n",
    "#2. This is called when \"Refresh Data\" button is pressed.\n",
    "#function to call current data\n",
    "def access_api():\n",
    "    filters = [\n",
    "        'areaType=overview'\n",
    "    ]\n",
    "\n",
    "    structure = {\n",
    "        \"date\" : \"date\",\n",
    "        \"PlanCovidTests\" : \"newTestsByPublishDate\",\n",
    "        \"testsone\" : \"newPillarOneTestsByPublishDate\",\n",
    "        \"teststwo\" : \"newPillarTwoTestsByPublishDate\",\n",
    "        \"teststhree\" : \"newPillarThreeTestsByPublishDate\"\n",
    "    }\n",
    "    try:\n",
    "        api = Cov19API(filters = filters, structure = structure)\n",
    "        testdata = api.get_json()\n",
    "    except: \n",
    "        print(\"No new data can be downloaded at the moment\")\n",
    "        print(\"Presenting as per old data\")       \n",
    "        with open(\"testsbydate.json\", \"rt\") as INFILE:\n",
    "            testdata=json.load(INFILE)\n",
    "        INFILE.close()\n",
    "    \n",
    "    return testdata"
   ]
  },
  {
   "cell_type": "code",
   "execution_count": 7,
   "metadata": {},
   "outputs": [],
   "source": [
    "## Functions to refresh graph, button call back for data refresh\n",
    "#New data will be downloaded and graph is updated if the \"Refresh Data\" button is pressed, \n",
    "#see the changes on graph after pressing the refresh button.\n",
    "#when the refresh data button is pressed\n",
    "def refresh_graph():\n",
    "    \"\"\" We change the value of the widget in order to force a redraw of the graph;\n",
    "    this is useful when the data have been updated. This is a bit of a gimmick; it\n",
    "    needs to be customised for one of your widgets. \"\"\"\n",
    "    current=scale.value\n",
    "    if current==scale.options[0][1]:\n",
    "        other=scale.options[1][1]\n",
    "    else:\n",
    "        other=scale.options[0][1]\n",
    "    scale.value=other # forces the redraw\n",
    "    scale.value=current # now we can change it back\n",
    "   \n",
    "    #Refresh data button to download new data and update the graph\n",
    "def api_button_callback(button):\n",
    "    apidata=access_api()\n",
    "    # wrangle the data and overwrite the dataframe for plotting\n",
    "    global df\n",
    "    df=wrangle_data(apidata)\n",
    "    refresh_graph()\n",
    "    button.icon=\"check\"\n",
    "    time.sleep(4)\n",
    "    button.icon = \"download\"\n",
    "\n",
    "# button widget\n",
    "button = wdg.Button(\n",
    "    description = 'Update Data',\n",
    "    disabled = False,\n",
    "    button_style = '',\n",
    "    tooltip = 'Click to update data',\n",
    "    icon = 'download'\n",
    ")"
   ]
  },
  {
   "cell_type": "code",
   "execution_count": 8,
   "metadata": {},
   "outputs": [],
   "source": [
    "## Graphs and Analysis\n",
    "## Graphs and Analysis\n",
    "#Graph is the comparison between Planned Covid tests (PlanCovidTests) Vs \n",
    "#  Actual total Covid tests (TotalCovidTests) carried out on datewise basis.\n",
    "#Graph is the comparison between Planned Covid tests (PlanCovidTests) Vs\n",
    "#  Actual total Covid tests (TotalCovidTests) carried out on datewise basis.\n",
    "def plot_graph(test, scale):\n",
    "    df[list(test)].plot(logy = scale)\n",
    "\n",
    "#widget for linear or log\n",
    "scale=wdg.Dropdown(\n",
    "    options=[('linear', False),('log', True)],\n",
    "    value= False,\n",
    "    description='Scale: ',\n",
    "    disabled=False,\n",
    ")\n",
    "#widget for total testes and planned to be tested\n",
    "Tests = wdg.SelectMultiple(\n",
    "    options = ['PlanCovidTests', 'TotalCovidTests'],\n",
    "    value = ['PlanCovidTests', 'TotalCovidTests'],\n",
    "    row = 2,\n",
    "    description = \"Tests:\",\n",
    "    disabled = False\n",
    ")\n",
    "#widget for displaying updated date\n",
    "say = \"hello\"\n",
    "dtime = wdg.Text(\n",
    "    value= say,\n",
    "    placeholder=\"\",\n",
    "    description='Data Date:',\n",
    "    disabled=True\n",
    ")\n",
    "\n"
   ]
  },
  {
   "cell_type": "markdown",
   "metadata": {},
   "source": [
    "## A comparison of the number of test carried out (TotalCovidTests) with planned testing capacity(PlanCovidTests)\n",
    "There are two interactive widgets\n",
    "1. Tests - multiple selection can be done here - Where either select PlanCovidTests or TotalCovidTests or both can be selected.\n",
    "2. Scale - Single selection can only be done - Where the selection is either linear or log, depends on the way the graph can se seen."
   ]
  },
  {
   "cell_type": "code",
   "execution_count": 9,
   "metadata": {},
   "outputs": [
    {
     "data": {
      "application/vnd.jupyter.widget-view+json": {
       "model_id": "f9489e731c7f408183ad03cd40b1eaeb",
       "version_major": 2,
       "version_minor": 0
      },
      "text/plain": [
       "HBox(children=(Button(description='Refresh Data', icon='download', style=ButtonStyle(), tooltip='Click to upda…"
      ]
     },
     "metadata": {},
     "output_type": "display_data"
    },
    {
     "data": {
      "application/vnd.jupyter.widget-view+json": {
       "model_id": "0edc2f32719b4de29882ea50ae8d2ece",
       "version_major": 2,
       "version_minor": 0
      },
      "text/plain": [
       "Output()"
      ]
     },
     "metadata": {},
     "output_type": "display_data"
    },
    {
     "data": {
      "application/vnd.jupyter.widget-view+json": {
       "model_id": "d33d28308d3a41cf9973fd372a67d497",
       "version_major": 2,
       "version_minor": 0
      },
      "text/plain": [
       "Text(value='2020-11-24 19:41:32+00:00', description='Data Date:', disabled=True, placeholder='')"
      ]
     },
     "metadata": {},
     "output_type": "display_data"
    }
   ],
   "source": [
    "# Deploying the Dashboard\n",
    "df=wrangle_data(data)\n",
    "graph=wdg.interactive_output(plot_graph,{'test' : Tests,'scale' : scale})\n",
    "button.on_click(api_button_callback) # the name of your function inside these brackets\n",
    "control = wdg.HBox([button, Tests, scale])\n",
    "display(control, graph)\n",
    "display(dtime)"
   ]
  },
  {
   "cell_type": "markdown",
   "metadata": {},
   "source": [
    "**Author and Copyright Notice** Rohit Garg (r.garg@se20.qmul.ac.uk). All Rights Reserved. Data source: *Based on UK Government [data](https://coronavirus.data.gov.uk/) published by [Public Health England](https://www.gov.uk/government/organisations/public-health-england).*"
   ]
  }
 ],
 "metadata": {
  "kernelspec": {
   "display_name": "Python 3",
   "language": "python",
   "name": "python3"
  },
  "language_info": {
   "codemirror_mode": {
    "name": "ipython",
    "version": 3
   },
   "file_extension": ".py",
   "mimetype": "text/x-python",
   "name": "python",
   "nbconvert_exporter": "python",
   "pygments_lexer": "ipython3",
   "version": "3.8.5"
  }
 },
 "nbformat": 4,
 "nbformat_minor": 4
}
